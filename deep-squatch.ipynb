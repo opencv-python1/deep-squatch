{
  "nbformat": 4,
  "nbformat_minor": 0,
  "metadata": {
    "colab": {
      "name": "deep-squatch",
      "provenance": [],
      "private_outputs": true,
      "collapsed_sections": [],
      "authorship_tag": "ABX9TyOBo+PewOKRHFKDsZZuqgz1",
      "include_colab_link": true
    },
    "kernelspec": {
      "name": "python3",
      "display_name": "Python 3"
    },
    "accelerator": "GPU"
  },
  "cells": [
    {
      "cell_type": "markdown",
      "metadata": {
        "id": "view-in-github",
        "colab_type": "text"
      },
      "source": [
        "<a href=\"https://colab.research.google.com/github/sv4u/deep-squatch/blob/master/deep-squatch.ipynb\" target=\"_parent\"><img src=\"https://colab.research.google.com/assets/colab-badge.svg\" alt=\"Open In Colab\"/></a>"
      ]
    },
    {
      "cell_type": "markdown",
      "metadata": {
        "id": "Fmz_8LlkDGQG",
        "colab_type": "text"
      },
      "source": [
        "# deep squatch Tweet Generation\n",
        "\n",
        "Welcome to the deep squatch tweet generator. In this notebook, I will detail how the GPT-2 355M model is used to generate an AI that learns from the twitter account [@squatchssb](http://twitter.com/squatchssb)."
      ]
    },
    {
      "cell_type": "markdown",
      "metadata": {
        "id": "g3nojR925Oen",
        "colab_type": "text"
      },
      "source": [
        "## Installation and Imports"
      ]
    },
    {
      "cell_type": "markdown",
      "metadata": {
        "id": "HzK4lICy5RZz",
        "colab_type": "text"
      },
      "source": [
        "### Install packages from `pip`"
      ]
    },
    {
      "cell_type": "code",
      "metadata": {
        "id": "UBcxHPpv_KzD",
        "colab_type": "code",
        "colab": {}
      },
      "source": [
        "%tensorflow_version 1.x\n",
        "!pip install -q gpt-2-simple twint fire tqdm"
      ],
      "execution_count": null,
      "outputs": []
    },
    {
      "cell_type": "markdown",
      "metadata": {
        "id": "Af3bzvI5PH49",
        "colab_type": "text"
      },
      "source": [
        "### Import packages"
      ]
    },
    {
      "cell_type": "code",
      "metadata": {
        "id": "EzUl7reQPHQa",
        "colab_type": "code",
        "colab": {}
      },
      "source": [
        "import gpt_2_simple as gpt\n",
        "from google.colab import files"
      ],
      "execution_count": null,
      "outputs": []
    },
    {
      "cell_type": "markdown",
      "metadata": {
        "id": "yVrrfNni5V2r",
        "colab_type": "text"
      },
      "source": [
        "## Create Tweet CSV\n",
        "\n",
        "Using the `scrape.py` from the [deep-squatch](https://github.com/sv4u/deep-squatch) repository, we can generate the CSV of tweets. Then, you can edit the variable `TWEETS` with the correct filename."
      ]
    },
    {
      "cell_type": "code",
      "metadata": {
        "id": "HRDxj56o5xBq",
        "colab_type": "code",
        "colab": {}
      },
      "source": [
        "!wget https://raw.githubusercontent.com/sv4u/deep-squatch/master/scrape.py -O scrape.py\n",
        "!python scrape.py --username=squatchssb --strip_usertags=True --strip_hashtags=True\n",
        "TWEETS = \"squatchssb_tweets.csv\""
      ],
      "execution_count": null,
      "outputs": []
    },
    {
      "cell_type": "markdown",
      "metadata": {
        "id": "vviqZrpN559r",
        "colab_type": "text"
      },
      "source": [
        "## Model Creation\n",
        "\n",
        "With the tweet data uploaded and GPT-2 imported, we can start the model creation. The model will be based on the 355M model provided by GPT-2."
      ]
    },
    {
      "cell_type": "markdown",
      "metadata": {
        "id": "oUpGnn-m75Tc",
        "colab_type": "text"
      },
      "source": [
        "### Downloading Model"
      ]
    },
    {
      "cell_type": "code",
      "metadata": {
        "id": "NM12O5TN77rF",
        "colab_type": "code",
        "colab": {}
      },
      "source": [
        "gpt.download_gpt2(model_name=\"355M\")"
      ],
      "execution_count": null,
      "outputs": []
    },
    {
      "cell_type": "markdown",
      "metadata": {
        "id": "HeklH76D8EKR",
        "colab_type": "text"
      },
      "source": [
        "### Finetuning Model"
      ]
    },
    {
      "cell_type": "code",
      "metadata": {
        "id": "OJukjF278S5g",
        "colab_type": "code",
        "colab": {}
      },
      "source": [
        "sess = gpt.start_tf_sess()\n",
        "gpt.finetune(sess,\n",
        "             dataset=TWEETS,\n",
        "             model_name='355M',\n",
        "             steps=3000,\n",
        "             restore_from='fresh',\n",
        "             run_name='deep-squatch',\n",
        "             print_every=100,\n",
        "             sample_every=500,\n",
        "             save_every=100)"
      ],
      "execution_count": null,
      "outputs": []
    },
    {
      "cell_type": "markdown",
      "metadata": {
        "id": "rFbK97BC8d99",
        "colab_type": "text"
      },
      "source": [
        "### Generating Output"
      ]
    },
    {
      "cell_type": "code",
      "metadata": {
        "id": "p5RYGKoY8gQZ",
        "colab_type": "code",
        "colab": {}
      },
      "source": [
        "OUTPUT_SIZE = 200\n",
        "OUTPUT_FILE = \"deep_squatch.txt\"\n",
        "gpt.generate_to_file(sess,\n",
        "                     length=140,\n",
        "                     temperature=1.05,\n",
        "                     prefix='<|startoftext|>',\n",
        "                     truncate='<|endoftext|>',\n",
        "                     run_name=\"deep-squatch\",\n",
        "                     include_prefix=False,\n",
        "                     nsamples=OUTPUT_SIZE,\n",
        "                     batch_size=20,\n",
        "                     destination_path=OUTPUT_FILE)\n",
        "files.download(\"deep_squatch.txt\")"
      ],
      "execution_count": null,
      "outputs": []
    }
  ]
}